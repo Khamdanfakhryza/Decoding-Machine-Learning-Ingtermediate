{
  "nbformat": 4,
  "nbformat_minor": 0,
  "metadata": {
    "colab": {
      "provenance": [],
      "authorship_tag": "ABX9TyN3qqE/nXxgrZ0RQYQQ+reI",
      "include_colab_link": true
    },
    "kernelspec": {
      "name": "python3",
      "display_name": "Python 3"
    },
    "language_info": {
      "name": "python"
    }
  },
  "cells": [
    {
      "cell_type": "markdown",
      "metadata": {
        "id": "view-in-github",
        "colab_type": "text"
      },
      "source": [
        "<a href=\"https://colab.research.google.com/github/Khamdanfakhryza/Decoding-Machine-Learning-Ingtermediate/blob/main/Scrapping_Data.ipynb\" target=\"_parent\"><img src=\"https://colab.research.google.com/assets/colab-badge.svg\" alt=\"Open In Colab\"/></a>"
      ]
    },
    {
      "cell_type": "code",
      "execution_count": null,
      "metadata": {
        "colab": {
          "base_uri": "https://localhost:8080/"
        },
        "id": "AjVdbav5Z1rD",
        "outputId": "ea5e888b-936a-47ea-a666-856caa610466"
      },
      "outputs": [
        {
          "output_type": "stream",
          "name": "stdout",
          "text": [
            "Collecting google-play-scraper\n",
            "  Downloading google_play_scraper-1.2.7-py3-none-any.whl.metadata (50 kB)\n",
            "\u001b[?25l     \u001b[90m━━━━━━━━━━━━━━━━━━━━━━━━━━━━━━━━━━━━━━━━\u001b[0m \u001b[32m0.0/50.2 kB\u001b[0m \u001b[31m?\u001b[0m eta \u001b[36m-:--:--\u001b[0m\r\u001b[2K     \u001b[90m━━━━━━━━━━━━━━━━━━━━━━━━━━━━━━━━━━━━━━━━\u001b[0m \u001b[32m50.2/50.2 kB\u001b[0m \u001b[31m1.4 MB/s\u001b[0m eta \u001b[36m0:00:00\u001b[0m\n",
            "\u001b[?25hDownloading google_play_scraper-1.2.7-py3-none-any.whl (28 kB)\n",
            "Installing collected packages: google-play-scraper\n",
            "Successfully installed google-play-scraper-1.2.7\n",
            "Collecting sastrawi\n",
            "  Downloading Sastrawi-1.0.1-py2.py3-none-any.whl.metadata (909 bytes)\n",
            "Downloading Sastrawi-1.0.1-py2.py3-none-any.whl (209 kB)\n",
            "\u001b[2K   \u001b[90m━━━━━━━━━━━━━━━━━━━━━━━━━━━━━━━━━━━━━━━━\u001b[0m \u001b[32m209.7/209.7 kB\u001b[0m \u001b[31m8.0 MB/s\u001b[0m eta \u001b[36m0:00:00\u001b[0m\n",
            "\u001b[?25hInstalling collected packages: sastrawi\n",
            "Successfully installed sastrawi-1.0.1\n",
            "Jumlah ulasan: 108201, Jumlah kolom: 11\n",
            "                               reviewId     userName  \\\n",
            "0  53cbc709-0730-4003-9df9-617703cbf9a2        Jay S   \n",
            "1  20e46e86-a728-4e35-bfc4-785f809da6fa    Al Ayyubi   \n",
            "2  adebd360-7aff-4349-8826-36750c980f19     Arif Aja   \n",
            "3  882da2b6-5072-467f-b580-7af0aba6a7fd  Erna Widari   \n",
            "4  394290de-a4f4-4e79-be99-e859d981d762  Nia Anikmah   \n",
            "\n",
            "                                           userImage  \\\n",
            "0  https://play-lh.googleusercontent.com/a/ACg8oc...   \n",
            "1  https://play-lh.googleusercontent.com/a-/ALV-U...   \n",
            "2  https://play-lh.googleusercontent.com/a/ACg8oc...   \n",
            "3  https://play-lh.googleusercontent.com/a/ACg8oc...   \n",
            "4  https://play-lh.googleusercontent.com/a-/ALV-U...   \n",
            "\n",
            "                                             content  score  thumbsUpCount  \\\n",
            "0  Saya ucapkan terimakasih buat developer yang u...      1             25   \n",
            "1  Sejak update aplikasi versi paling baru... Saa...      3            331   \n",
            "2  pesan buat developer iflix dan penilain aplika...      4              7   \n",
            "3  Saya berlangganan setiap bulan & tidak pernah ...      1             73   \n",
            "4  Buat kalian yang suka nonton gratisan, sebaikn...      2             20   \n",
            "\n",
            "  reviewCreatedVersion                  at  \\\n",
            "0     5.15.1.603592820 2024-08-09 02:53:28   \n",
            "1     5.14.2.603592650 2024-06-23 04:59:20   \n",
            "2     5.15.0.603592750 2024-08-03 23:56:22   \n",
            "3     5.13.5.603592520 2024-05-09 10:30:03   \n",
            "4     5.14.2.603592650 2024-06-07 00:52:36   \n",
            "\n",
            "                                        replyContent           repliedAt  \\\n",
            "0  Hi Kak, mohon maaf udh buat Kakak ga nyaman ya... 2024-08-10 01:25:19   \n",
            "1  Hi kak! Mohon maaf ya. Sebelumnya, bisa coba c... 2024-06-23 10:56:03   \n",
            "2  Hai kak, Terimakasih atas rating yang diberika... 2024-08-04 18:17:50   \n",
            "3  Hi Kak! Mohon maaf sebelumnya yaa mohon pastik... 2024-05-09 17:39:34   \n",
            "4  Hai kak, Mohon maaf yaa atas ketidaknyamananny... 2024-06-07 01:06:56   \n",
            "\n",
            "         appVersion  \n",
            "0  5.15.1.603592820  \n",
            "1  5.14.2.603592650  \n",
            "2  5.15.0.603592750  \n",
            "3  5.13.5.603592520  \n",
            "4  5.14.2.603592650  \n"
          ]
        }
      ],
      "source": [
        "# Install library yang diperlukan\n",
        "!pip install google-play-scraper\n",
        "!pip install sastrawi\n",
        "\n",
        "# Import library yang diperlukan\n",
        "from google_play_scraper import app, reviews, Sort, reviews_all\n",
        "import pandas as pd\n",
        "import numpy as np\n",
        "import matplotlib.pyplot as plt\n",
        "import seaborn as sns\n",
        "import datetime as dt\n",
        "import re\n",
        "import string\n",
        "from nltk.tokenize import word_tokenize\n",
        "from nltk.corpus import stopwords\n",
        "from Sastrawi.Stemmer.StemmerFactory import StemmerFactory\n",
        "from Sastrawi.StopWordRemover.StopWordRemoverFactory import StopWordRemoverFactory\n",
        "from wordcloud import WordCloud\n",
        "import csv\n",
        "\n",
        "# Set seed untuk hasil yang konsisten\n",
        "seed = 0\n",
        "np.random.seed(seed)\n",
        "\n",
        "# Mengambil semua ulasan aplikasi iflix dengan bahasa Indonesia\n",
        "scrapreview = reviews_all(\n",
        "    'iflix.play',\n",
        "    lang='id',\n",
        "    country='id',\n",
        "    sort=Sort.MOST_RELEVANT,\n",
        "    count=3000\n",
        ")\n",
        "\n",
        "# Menyimpan ulasan ke dalam file CSV\n",
        "with open('ulasan_aplikasi.csv', mode='w', newline='', encoding='utf-8') as file:\n",
        "    writer = csv.writer(file)\n",
        "    writer.writerow(['Review'])\n",
        "    for review in scrapreview:\n",
        "        writer.writerow([review['content']])\n",
        "\n",
        "# Membuat DataFrame dari ulasan\n",
        "app_reviews_df = pd.DataFrame(scrapreview)\n",
        "\n",
        "# Menampilkan ukuran DataFrame (jumlah ulasan dan kolom)\n",
        "jumlah_ulasan, jumlah_kolom = app_reviews_df.shape\n",
        "print(f\"Jumlah ulasan: {jumlah_ulasan}, Jumlah kolom: {jumlah_kolom}\")\n",
        "\n",
        "# Menampilkan beberapa ulasan pertama\n",
        "print(app_reviews_df.head())\n",
        "\n",
        "# Menyimpan DataFrame ke dalam file CSV\n",
        "app_reviews_df.to_csv('ulasan_aplikasi.csv', index=False)\n"
      ]
    }
  ]
}